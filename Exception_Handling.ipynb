{
 "cells": [
  {
   "cell_type": "code",
   "execution_count": 2,
   "metadata": {},
   "outputs": [
    {
     "name": "stdout",
     "output_type": "stream",
     "text": [
      "division by zero\n"
     ]
    }
   ],
   "source": [
    "try:\n",
    "    a = 10\n",
    "    b = 0\n",
    "    c = a/b\n",
    "except ZeroDivisionError as ErrorMessage:\n",
    "    print (ErrorMessage)"
   ]
  },
  {
   "cell_type": "markdown",
   "metadata": {},
   "source": [
    "- well, this was about arithmatic error, let's see some more code using except, else and finally blocks"
   ]
  },
  {
   "cell_type": "code",
   "execution_count": 7,
   "metadata": {},
   "outputs": [
    {
     "name": "stdout",
     "output_type": "stream",
     "text": [
      "division by zero\n",
      "This is the end !!!!\n"
     ]
    }
   ],
   "source": [
    "try:\n",
    "    a = 10\n",
    "    b = 0\n",
    "    c = a/b\n",
    "    print (c)\n",
    "except ZeroDivisionError as ErrorMessage:\n",
    "    print (ErrorMessage)\n",
    "else:\n",
    "    print (\"No exception encountered\")\n",
    "finally:\n",
    "    print (\"This is the end !!!!\")"
   ]
  },
  {
   "cell_type": "code",
   "execution_count": 6,
   "metadata": {},
   "outputs": [
    {
     "name": "stdout",
     "output_type": "stream",
     "text": [
      "2.0\n",
      "No exception encountered\n",
      "This is the end !!!!\n"
     ]
    }
   ],
   "source": [
    "try:\n",
    "    a = 10\n",
    "    b = 5\n",
    "    c = a/b\n",
    "    print (c)\n",
    "except ZeroDivisionError as ErrorMessage:\n",
    "    print (ErrorMessage)\n",
    "else:\n",
    "    print (\"No exception encountered\")\n",
    "finally:\n",
    "    print (\"This is the end !!!!\")"
   ]
  },
  {
   "cell_type": "code",
   "execution_count": 11,
   "metadata": {},
   "outputs": [
    {
     "name": "stdout",
     "output_type": "stream",
     "text": [
      "division by zero\n",
      "This is the end !!!!\n"
     ]
    }
   ],
   "source": [
    "#One should be able to continue with execution even when and exception is encountered\n",
    "try:\n",
    "    a = 10\n",
    "    b = 0\n",
    "    c = a/b\n",
    "    d = a+b\n",
    "    print (c)\n",
    "    print (d)\n",
    "except ZeroDivisionError as ErrorMessage:\n",
    "    print (ErrorMessage)\n",
    "else:\n",
    "    print (\"No exception encountered\")\n",
    "finally:\n",
    "    print (\"This is the end !!!!\")"
   ]
  },
  {
   "cell_type": "code",
   "execution_count": 12,
   "metadata": {},
   "outputs": [],
   "source": [
    "#This doesn't work either, let me put it inside a function\n",
    "def some_func():\t\n",
    "\ttry:\n",
    "\t\ta = 10\n",
    "\t\tb = 0\n",
    "\t\tc = a/b\n",
    "\t\td = a+b\n",
    "\t\treturn c\n",
    "\texcept ZeroDivisionError as ErrorMessage:\n",
    "\t\tprint (ErrorMessage)\n",
    "\telse:\n",
    "\t\tprint (\"No exception encountered\")\n",
    "\tfinally:\n",
    "\t\treturn d\n",
    "\t\tprint (\"This is the end !!!!\")"
   ]
  },
  {
   "cell_type": "code",
   "execution_count": 14,
   "metadata": {},
   "outputs": [],
   "source": [
    "#Nope, this doesn't work either, all of the blocks are like individual functions in itself"
   ]
  },
  {
   "cell_type": "code",
   "execution_count": null,
   "metadata": {},
   "outputs": [],
   "source": []
  }
 ],
 "metadata": {
  "kernelspec": {
   "display_name": "Python 3",
   "language": "python",
   "name": "python3"
  },
  "language_info": {
   "codemirror_mode": {
    "name": "ipython",
    "version": 3
   },
   "file_extension": ".py",
   "mimetype": "text/x-python",
   "name": "python",
   "nbconvert_exporter": "python",
   "pygments_lexer": "ipython3",
   "version": "3.7.6"
  }
 },
 "nbformat": 4,
 "nbformat_minor": 4
}
