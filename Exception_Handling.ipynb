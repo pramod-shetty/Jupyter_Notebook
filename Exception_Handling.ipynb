{
 "cells": [
  {
   "cell_type": "code",
   "execution_count": 2,
   "metadata": {},
   "outputs": [
    {
     "name": "stdout",
     "output_type": "stream",
     "text": [
      "division by zero\n"
     ]
    }
   ],
   "source": [
    "try:\n",
    "    a = 10\n",
    "    b = 0\n",
    "    c = a/b\n",
    "except ZeroDivisionError as ErrorMessage:\n",
    "    print (ErrorMessage)"
   ]
  },
  {
   "cell_type": "markdown",
   "metadata": {},
   "source": [
    "- well, this was about arithmatic error, let's see some more code using except, else and finally blocks"
   ]
  },
  {
   "cell_type": "code",
   "execution_count": 7,
   "metadata": {},
   "outputs": [
    {
     "name": "stdout",
     "output_type": "stream",
     "text": [
      "division by zero\n",
      "This is the end !!!!\n"
     ]
    }
   ],
   "source": [
    "try:\n",
    "    a = 10\n",
    "    b = 0\n",
    "    c = a/b\n",
    "    print (c)\n",
    "except ZeroDivisionError as ErrorMessage:\n",
    "    print (ErrorMessage)\n",
    "else:\n",
    "    print (\"No exception encountered\")\n",
    "finally:\n",
    "    print (\"This is the end !!!!\")"
   ]
  },
  {
   "cell_type": "code",
   "execution_count": 6,
   "metadata": {},
   "outputs": [
    {
     "name": "stdout",
     "output_type": "stream",
     "text": [
      "2.0\n",
      "No exception encountered\n",
      "This is the end !!!!\n"
     ]
    }
   ],
   "source": [
    "try:\n",
    "    a = 10\n",
    "    b = 5\n",
    "    c = a/b\n",
    "    print (c)\n",
    "except ZeroDivisionError as ErrorMessage:\n",
    "    print (ErrorMessage)\n",
    "else:\n",
    "    print (\"No exception encountered\")\n",
    "finally:\n",
    "    print (\"This is the end !!!!\")"
   ]
  },
  {
   "cell_type": "code",
   "execution_count": null,
   "metadata": {},
   "outputs": [],
   "source": []
  }
 ],
 "metadata": {
  "kernelspec": {
   "display_name": "Python 3",
   "language": "python",
   "name": "python3"
  },
  "language_info": {
   "codemirror_mode": {
    "name": "ipython",
    "version": 3
   },
   "file_extension": ".py",
   "mimetype": "text/x-python",
   "name": "python",
   "nbconvert_exporter": "python",
   "pygments_lexer": "ipython3",
   "version": "3.7.6"
  }
 },
 "nbformat": 4,
 "nbformat_minor": 4
}
